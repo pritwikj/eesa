{
 "cells": [
  {
   "cell_type": "code",
   "execution_count": 1,
   "metadata": {},
   "outputs": [],
   "source": [
    "#pip install google-api-python-client google-auth-httplib2 google-auth-oauthlib"
   ]
  },
  {
   "cell_type": "code",
   "execution_count": 2,
   "metadata": {},
   "outputs": [],
   "source": [
    "#pip install beautifulsoup4"
   ]
  },
  {
   "cell_type": "code",
   "execution_count": 40,
   "metadata": {},
   "outputs": [],
   "source": [
    "# import the required libraries \n",
    "from googleapiclient.discovery import build \n",
    "from google_auth_oauthlib.flow import InstalledAppFlow \n",
    "from google.auth.transport.requests import Request \n",
    "import pickle \n",
    "import os.path \n",
    "import base64 \n",
    "import email \n",
    "from bs4 import BeautifulSoup \n",
    "import re\n",
    "\n",
    "# Define the SCOPES. If modifying it, delete the token.pickle file. \n",
    "SCOPES = ['https://www.googleapis.com/auth/gmail.readonly'] \n",
    "\n",
    "def getEmails(): \n",
    "\t# Variable creds will store the user access token. \n",
    "\t# If no valid token found, we will create one. \n",
    "\tcreds = None\n",
    "\n",
    "\t# The file token.pickle contains the user access token. \n",
    "\t# Check if it exists \n",
    "\tif os.path.exists('token.pickle'): \n",
    "\n",
    "\t\t# Read the token from the file and store it in the variable creds \n",
    "\t\twith open('token.pickle', 'rb') as token: \n",
    "\t\t\tcreds = pickle.load(token) \n",
    "\n",
    "\t# If credentials are not available or are invalid, ask the user to log in. \n",
    "\tif not creds or not creds.valid: \n",
    "\t\tif creds and creds.expired and creds.refresh_token: \n",
    "\t\t\tcreds.refresh(Request()) \n",
    "\t\telse: \n",
    "\t\t\tflow = InstalledAppFlow.from_client_secrets_file('credentials.json', SCOPES) \n",
    "\t\t\tcreds = flow.run_local_server(port=0) \n",
    "\n",
    "\t\t# Save the access token in token.pickle file for the next run \n",
    "\t\twith open('token.pickle', 'wb') as token: \n",
    "\t\t\tpickle.dump(creds, token) \n",
    "\n",
    "\t# Connect to the Gmail API \n",
    "\tservice = build('gmail', 'v1', credentials=creds) \n",
    "\t\n",
    "\t# request a list of all the messages \n",
    "\t#result = service.users().messages().list(maxResults= 10, userId='me').execute()\n",
    "\n",
    "\tquery = \"from:pritwik@skoruz.com\"\n",
    "\t#query = \"from:pritwik@skoruz.com OR keertijeeva@eesa.ai\"\n",
    "\n",
    "\tresult = service.users().messages().list(maxResults=5, userId='me', q=query).execute()\n",
    "\n",
    "\tmessages = result.get('messages') \n",
    "\n",
    "\t# messages is a list of dictionaries where each dictionary contains a message id. \n",
    "\temail_data = \"\"\n",
    "\t# iterate through all the messages \n",
    "\tfor msg in messages: \n",
    "\t\t# Get the message from its id \n",
    "\t\ttxt = service.users().messages().get(userId='me', id=msg['id']).execute() \n",
    "\n",
    "\t\t# Use try-except to avoid any Errors \n",
    "\t\ttry: \t\n",
    "\t\t\t# Get value of 'payload' from dictionary 'txt' \n",
    "\t\t\tpayload = txt['payload'] \n",
    "\t\t\theaders = payload['headers'] \n",
    "\n",
    "\t\t\t# Look for Subject and Sender Email in the headers \n",
    "\t\t\tfor d in headers: \n",
    "\t\t\t\tif d['name'] == 'Subject': \n",
    "\t\t\t\t\tsubject = d['value'] \n",
    "\t\t\t\tif d['name'] == 'From': \n",
    "\t\t\t\t\tsender = d['value']\n",
    "\n",
    "\t\t\temail_addy = r'<(.*?)>'\n",
    "\t\t\tmatch = re.search(email_addy, sender)\n",
    "\t\t\tif match:\n",
    "\t\t\t\temail_address = match.group(1)\n",
    "\t\t\telse:\n",
    "\t\t\t\temail_address = \"No email address found in the given text.\"\t\t\t\t\n",
    "\t \t\t\n",
    "\t\t\t# The Body of the message is in Encrypted format. So, we have to decode it. \n",
    "\t\t\t# Get the data and decode it with base 64 decoder. \n",
    "\t\t\tparts = payload.get('parts')[0] \n",
    "\t\t\tdata = parts['body']['data'] \n",
    "\t\t\tdata = data.replace(\"-\",\"+\").replace(\"_\",\"/\") \n",
    "\t\t\tdecoded_data = base64.b64decode(data) \n",
    "\t\t\tbody = decoded_data.decode(\"utf-8\")\n",
    "\t\t\t#print(decoded_data)\n",
    "\t\t\t#print(type(decoded_data))\n",
    "\t\t\t\n",
    "\n",
    "\t\t\t# Now, the data obtained is in lxml. So, we will parse \n",
    "\t\t\t# it with BeautifulSoup library \n",
    "\t\t\t# soup = BeautifulSoup(decoded_data , \"lxml\") \n",
    "\t\t\t# body = soup.body() \n",
    "\t\t\t# Printing the subject, sender's email and message \n",
    "\t\t\t# print(\"Subject: \", subject) \n",
    "\t\t\t# #print(\"From: \", sender)\n",
    "\t\t\t# print(\"From: \", email_address) \n",
    "\t\t\t# print(\"Message: \", body) \n",
    "\t\t\t# print('\\n') \n",
    "\n",
    "\n",
    "\t\t\temail_data += f\"Subject: {subject}\\nFrom: {email_address}\\nMessage: {body}\\n\\n\"\t\t\n",
    "\t\texcept: \n",
    "\t\t\tpass\n",
    "\treturn email_data\n",
    "\n",
    "# Now, you have all the email data in the 'all_email_data' string\n",
    "# You can use it as needed, for example, save it to a file or print it\n",
    "#getEmails()"
   ]
  },
  {
   "cell_type": "code",
   "execution_count": 41,
   "metadata": {},
   "outputs": [
    {
     "data": {
      "text/plain": [
       "\"Subject: Billing and Subscription Status\\nFrom: pritwik@skoruz.com\\nMessage: Hi Pritwik,\\r\\n\\r\\nWe wanted to check in on the status of our billing and subscription with\\r\\nyour AI SaaS platform. Could you please provide an update on our current\\r\\nsubscription and any upcoming renewals or changes to our plan?\\r\\n\\r\\nThank you for your assistance,\\r\\nTesterson\\r\\n\\n\\nSubject: Upcoming Product Updates\\nFrom: pritwik@skoruz.com\\nMessage: Hi Pritwik,\\r\\n\\r\\nWe've heard there are some exciting updates coming to your AI SaaS\\r\\nsolution. Can you provide us with a sneak peek or schedule a demo to see\\r\\nhow these updates might align with our needs?\\r\\n\\r\\nThank you and best regards,\\r\\nTesterson\\r\\n\\n\\nSubject: Feature Enhancement Request\\nFrom: pritwik@skoruz.com\\nMessage: Hi Pritwik,\\r\\n\\r\\nDuring our weekly team meeting, we identified a need for more customizable\\r\\nreporting features in your AI SaaS platform. Is this something that can be\\r\\nconsidered for future updates? We believe it would greatly benefit our\\r\\nteam's workflow.\\r\\n\\r\\nLooking forward to your insights,\\r\\nTesterson\\r\\n\\n\\nSubject: Weekly Performance Metrics Review\\nFrom: pritwik@skoruz.com\\nMessage: Hi Pritwik,\\r\\n\\r\\nI hope you had a great week. We've been closely monitoring the performance\\r\\nmetrics of your AI SaaS solution, and we've seen a 10% increase in user\\r\\nengagement. This is fantastic news! We'd like to set up a meeting to\\r\\ndiscuss how we can leverage this to further enhance our user experience.\\r\\n\\r\\nBest regards,\\r\\nTesterson\\r\\n\\n\\nSubject: Weekly Update and Feedback\\nFrom: pritwik@skoruz.com\\nMessage: Hi Pritwik,\\r\\n\\r\\nI hope you're doing well. We wanted to provide some feedback and updates on\\r\\nour experience with your AI SaaS platform over the past week. We've noticed\\r\\na significant improvement in response times and accuracy in our chatbot.\\r\\nHowever, there's still room for improvement in handling complex queries.\\r\\nCould we schedule a call to discuss this further?\\r\\n\\r\\nBest regards,\\r\\nTesterson\\r\\n\\n\\n\""
      ]
     },
     "execution_count": 41,
     "metadata": {},
     "output_type": "execute_result"
    }
   ],
   "source": [
    "getEmails()"
   ]
  },
  {
   "cell_type": "code",
   "execution_count": null,
   "metadata": {},
   "outputs": [],
   "source": []
  }
 ],
 "metadata": {
  "kernelspec": {
   "display_name": "eesa",
   "language": "python",
   "name": "python3"
  },
  "language_info": {
   "codemirror_mode": {
    "name": "ipython",
    "version": 3
   },
   "file_extension": ".py",
   "mimetype": "text/x-python",
   "name": "python",
   "nbconvert_exporter": "python",
   "pygments_lexer": "ipython3",
   "version": "3.11.5"
  }
 },
 "nbformat": 4,
 "nbformat_minor": 2
}
